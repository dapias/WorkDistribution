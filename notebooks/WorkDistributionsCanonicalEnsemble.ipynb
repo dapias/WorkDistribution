{
 "cells": [
  {
   "cell_type": "markdown",
   "metadata": {},
   "source": [
    "## Work distributions for a harmonic oscillator in the canonical ensemble"
   ]
  },
  {
   "cell_type": "markdown",
   "metadata": {},
   "source": [
    "### Hoover-Holian"
   ]
  },
  {
   "cell_type": "markdown",
   "metadata": {},
   "source": [
    "\\begin{eqnarray}\n",
    "\\dot{q} &=& p \\\\\n",
    "\\dot{p} &=& - \\left(1 + \\frac{t}{t_s} \\right)^2 q - {\\zeta p} - \\beta \\xi p^3 \\\\\n",
    "\\dot{\\zeta} &=& \\frac{\\beta p^2 - 1}{\\tau^2} \\\\\n",
    "\\dot{\\xi} &=& \\frac{\\beta^2 p^4 - 3 \\beta p^2}{\\tau^2} \\\\\n",
    "\\dot{\\nu} &=& \\zeta + 3\\beta \\xi p^2\n",
    "\\end{eqnarray}\n"
   ]
  },
  {
   "cell_type": "markdown",
   "metadata": {},
   "source": [
    "$$ H = \\frac{p^2}{2} + \\omega_{\\lambda}^2 \\frac{x^2}{2} $$\n",
    "con \n",
    "$$ \\omega_{\\lambda} = 1 + \\lambda \\qquad \\lambda(t) = \\frac{t}{t_s} $$"
   ]
  },
  {
   "cell_type": "code",
   "execution_count": 1,
   "metadata": {
    "collapsed": false
   },
   "outputs": [],
   "source": [
    "using DifferentialEquations\n",
    "import Distributions.Normal\n",
    "import Distributions.Logistic"
   ]
  },
  {
   "cell_type": "code",
   "execution_count": 2,
   "metadata": {
    "collapsed": false
   },
   "outputs": [],
   "source": [
    "using PyPlot"
   ]
  },
  {
   "cell_type": "code",
   "execution_count": 3,
   "metadata": {
    "collapsed": false
   },
   "outputs": [],
   "source": [
    "const b = 1.0/0.5;\n",
    "const QNH = 1.0;\n",
    "const tauHH = 1.0;\n",
    "const QLog = 1.0;\n",
    "Ns = 10^4;"
   ]
  },
  {
   "cell_type": "code",
   "execution_count": 4,
   "metadata": {
    "collapsed": false
   },
   "outputs": [
    {
     "data": {
      "text/plain": [
       "3-element Array{Float64,1}:\n",
       "  2.49199 \n",
       "  1.30832 \n",
       " -0.516966"
      ]
     },
     "execution_count": 4,
     "metadata": {},
     "output_type": "execute_result"
    }
   ],
   "source": [
    "x,y,z1 = randn(3)"
   ]
  },
  {
   "cell_type": "code",
   "execution_count": 5,
   "metadata": {
    "collapsed": false
   },
   "outputs": [
    {
     "data": {
      "text/plain": [
       "HooverHolian (generic function with 1 method)"
      ]
     },
     "execution_count": 5,
     "metadata": {},
     "output_type": "execute_result"
    }
   ],
   "source": [
    "function HooverHolian(t, u, du; tau=tauHH, ts=1., beta = b) \n",
    "    du[1] = u[2]\n",
    "    du[2] = -(1+t/ts)^2*u[1] - u[3]*u[2] - beta*u[4]*u[2]^3\n",
    "    #du[2] = -(1)^2*u[1] - u[3]*u[2] - beta*u[4]*u[2]^3   ##Isothermal dynamics (omega = 1)\n",
    "    du[3] = (beta*u[2]^2 - 1)/tau^2 \n",
    "    du[4] = (beta^2*u[2]^4 - 3*beta*u[2]^2)/tau^2\n",
    "    du[5] = u[3] + 3*beta*u[4]*u[2]^2\n",
    "end "
   ]
  },
  {
   "cell_type": "code",
   "execution_count": 6,
   "metadata": {
    "collapsed": false
   },
   "outputs": [
    {
     "data": {
      "text/plain": [
       "workHH (generic function with 1 method)"
      ]
     },
     "execution_count": 6,
     "metadata": {},
     "output_type": "execute_result"
    }
   ],
   "source": [
    "function workHH()\n",
    "    q0,p0 = rand(Normal(0.0, 1./sqrt(b)),2)\n",
    "    zeta0, xi0 = rand(Normal(0.0, 1./tauHH),2)\n",
    "    nu0 = 0.0\n",
    "    u0HH = [q0,p0,zeta0,xi0, nu0]\n",
    "    I0 = q0^2/2. + p0^2./2. + tauHH^2.*zeta0^2./(2*b) + tauHH^2.*xi0^2/(2*b)\n",
    "    tspan = (0.0,1.0)\n",
    "    probHH = ODEProblem(HooverHolian,u0HH,tspan)\n",
    "    solHH = solve(probHH, DP5());\n",
    "    HHsol = solHH.u;\n",
    "    qf, pf, zetaf, xif, nuf = HHsol[end];\n",
    "    If = 4.*qf^2/2. + pf^2./2. + tauHH^2.*zetaf^2./(2*b) + tauHH^2.*xif^2/(2*b)\n",
    "    return If - I0 + 1./b*nuf\n",
    "end"
   ]
  },
  {
   "cell_type": "code",
   "execution_count": 7,
   "metadata": {
    "collapsed": false
   },
   "outputs": [
    {
     "data": {
      "text/plain": [
       "0.4224519034151055"
      ]
     },
     "execution_count": 7,
     "metadata": {},
     "output_type": "execute_result"
    }
   ],
   "source": [
    "workHH()"
   ]
  },
  {
   "cell_type": "code",
   "execution_count": 8,
   "metadata": {
    "collapsed": false
   },
   "outputs": [],
   "source": [
    "#Ns = 10^5\n",
    "w_HH = zeros(Ns);\n",
    "for i in 1:Ns\n",
    "    w_HH[i] = workHH()\n",
    "end"
   ]
  },
  {
   "cell_type": "code",
   "execution_count": 9,
   "metadata": {
    "collapsed": false
   },
   "outputs": [
    {
     "data": {
      "text/plain": [
       "0.3400413891882835"
      ]
     },
     "execution_count": 9,
     "metadata": {},
     "output_type": "execute_result"
    }
   ],
   "source": [
    "deltaF_HH = -1/b.*log(mean(exp(-b*w_HH)))  ##Theoretical = 1.0397"
   ]
  },
  {
   "cell_type": "code",
   "execution_count": 10,
   "metadata": {
    "collapsed": false
   },
   "outputs": [
    {
     "data": {
      "text/plain": [
       "0.6089756710238152"
      ]
     },
     "execution_count": 10,
     "metadata": {},
     "output_type": "execute_result"
    }
   ],
   "source": [
    "mean(w_HH)"
   ]
  },
  {
   "cell_type": "code",
   "execution_count": 11,
   "metadata": {
    "collapsed": false
   },
   "outputs": [
    {
     "data": {
      "image/png": "[encoded data removed]",
      "text/plain": [
       "PyPlot.Figure(PyObject <matplotlib.figure.Figure object at 0x327ebcd10>)"
      ]
     },
     "metadata": {},
     "output_type": "display_data"
    },
    {
     "data": {
      "text/plain": [
       "([1.46838,0.474766,0.237253,0.140796,0.092049,0.0635268,0.0401904,0.023855,0.0173726,0.0111496  …  0.000259293,0.0,0.0,0.0,0.0,0.0,0.0,0.0,0.0,0.000259293],[-0.00113128,0.384533,0.770197,1.15586,1.54152,1.92719,2.31285,2.69852,3.08418,3.46984  …  8.09781,8.48348,8.86914,9.2548,9.64047,10.0261,10.4118,10.7975,11.1831,11.5688],Any[PyObject <matplotlib.patches.Polygon object at 0x327f54350>])"
      ]
     },
     "execution_count": 11,
     "metadata": {},
     "output_type": "execute_result"
    }
   ],
   "source": [
    "plt[:hist](w_HH,bins = 30, normed = true, histtype=\"step\")\n",
    "#histogram(w_HH,nbins = 30, normed = true)"
   ]
  },
  {
   "cell_type": "code",
   "execution_count": 12,
   "metadata": {
    "collapsed": false
   },
   "outputs": [],
   "source": [
    "#deltaiHH = [HHsol[i][2]^2/2.  + HHsol[i][1]^2/2. + tauHH^2.*HHsol[i][3]^2/(2.*b) + tauHH^2.*HHsol[i][4]^2/(2.*b) + 1./b*HHsol[i][5] for i in 1:length(HHsol)] - I0;"
   ]
  },
  {
   "cell_type": "code",
   "execution_count": 13,
   "metadata": {
    "collapsed": false
   },
   "outputs": [],
   "source": [
    "#plot(deltaiHH)"
   ]
  },
  {
   "cell_type": "markdown",
   "metadata": {},
   "source": [
    "### Nosé-Hoover"
   ]
  },
  {
   "cell_type": "markdown",
   "metadata": {},
   "source": [
    "$$ f(\\zeta) = \\sqrt{\\frac{\\beta}{2\\pi Q}} \\exp\\left(-\\frac{\\beta \\zeta^2}{2 Q} \\right) $$"
   ]
  },
  {
   "cell_type": "markdown",
   "metadata": {},
   "source": [
    "\\begin{eqnarray}\n",
    "\\dot{q} &=& p \\\\\n",
    "\\dot{p} &=& -\\left(1 + \\frac{t}{t_s} \\right)^2 q - \\frac{\\zeta p}{Q} \\\\\n",
    "\\dot{\\zeta} &=& p^2 - \\frac{1}{\\beta} \\\\\n",
    "\\dot{\\nu} &=& \\frac{\\zeta}{Q}\n",
    "\\end{eqnarray}"
   ]
  },
  {
   "cell_type": "code",
   "execution_count": 14,
   "metadata": {
    "collapsed": false
   },
   "outputs": [
    {
     "data": {
      "text/plain": [
       "NoseHoover (generic function with 1 method)"
      ]
     },
     "execution_count": 14,
     "metadata": {},
     "output_type": "execute_result"
    }
   ],
   "source": [
    "function NoseHoover(t, u, du; ts=1., beta = b, Q = QNH) \n",
    "    du[1] = u[2]\n",
    "    du[2] = -(1+t/ts)^2*u[1] - u[3]*u[2]/Q \n",
    "    #du[2] = -(1)^2*u[1] - u[3]*u[2]/Q  ##Isothermal dynamics (omega = 1)\n",
    "    du[3] = u[2]^2 - 1/beta\n",
    "    du[4] = u[3]/Q\n",
    "end "
   ]
  },
  {
   "cell_type": "code",
   "execution_count": 38,
   "metadata": {
    "collapsed": false
   },
   "outputs": [
    {
     "name": "stderr",
     "output_type": "stream",
     "text": [
      "WARNING: Method definition workNH() in module Main at In[15]:4 overwritten at In[38]:2.\n"
     ]
    },
    {
     "data": {
      "text/plain": [
       "workNH (generic function with 1 method)"
      ]
     },
     "execution_count": 38,
     "metadata": {},
     "output_type": "execute_result"
    }
   ],
   "source": [
    "function workNH()\n",
    "    q0,p0 = rand(Normal(0.0, 1./sqrt(b)),2)\n",
    "    zeta0 = rand(Normal(0.0, QNH/sqrt(b)))\n",
    "    #q0,p0,zeta0=x,y,z1\n",
    "    nu0 = 0.0\n",
    "    u0NH = [q0,p0,zeta0,nu0]\n",
    "    I0 = q0^2/2. + p0^2./2. + zeta0^2./(2*QNH)\n",
    "    tspan = (0.0,1.0)\n",
    "    probNH = ODEProblem(NoseHoover,u0NH,tspan)\n",
    "    solNH = solve(probNH,DP5());\n",
    "    NHsol = solNH.u;\n",
    "    qf, pf, zetaf, nuf = NHsol[end];\n",
    "    If = 4.*qf^2/2. + pf^2./2. + zetaf^2./(2*QNH) \n",
    "    return If - I0 + 1./b*nuf\n",
    "end"
   ]
  },
  {
   "cell_type": "code",
   "execution_count": 39,
   "metadata": {
    "collapsed": false
   },
   "outputs": [
    {
     "data": {
      "text/plain": [
       "0.19684997579749558"
      ]
     },
     "execution_count": 39,
     "metadata": {},
     "output_type": "execute_result"
    }
   ],
   "source": [
    "workNH()"
   ]
  },
  {
   "cell_type": "code",
   "execution_count": 40,
   "metadata": {
    "collapsed": true
   },
   "outputs": [],
   "source": [
    "#Ns = 10^5\n",
    "w_NH = zeros(Ns);\n",
    "for i in 1:Ns\n",
    "    w_NH[i] = workNH()\n",
    "end"
   ]
  },
  {
   "cell_type": "code",
   "execution_count": 41,
   "metadata": {
    "collapsed": false
   },
   "outputs": [
    {
     "data": {
      "text/plain": [
       "0.3499523831238056"
      ]
     },
     "execution_count": 41,
     "metadata": {},
     "output_type": "execute_result"
    }
   ],
   "source": [
    "deltaF_NH = -1/b.*log(mean(exp(-b*w_NH)))  ##Theoretical = 1.0397"
   ]
  },
  {
   "cell_type": "code",
   "execution_count": 42,
   "metadata": {
    "collapsed": false
   },
   "outputs": [
    {
     "data": {
      "text/plain": [
       "0.6247565060730833"
      ]
     },
     "execution_count": 42,
     "metadata": {},
     "output_type": "execute_result"
    }
   ],
   "source": [
    "mean(w_NH)"
   ]
  },
  {
   "cell_type": "code",
   "execution_count": 43,
   "metadata": {
    "collapsed": false
   },
   "outputs": [
    {
     "data": {
      "image/png": "[encoded data removed]",
      "text/plain": [
       "PyPlot.Figure(PyObject <matplotlib.figure.Figure object at 0x32abd0790>)"
      ]
     },
     "metadata": {},
     "output_type": "display_data"
    },
    {
     "data": {
      "text/plain": [
       "([1.5604,0.634396,0.327659,0.21404,0.141943,0.106216,0.0688791,0.0440955,0.0321865,0.0247836  …  0.00064373,0.000321865,0.000321865,0.00064373,0.00064373,0.0,0.000321865,0.0,0.0,0.000321865],[4.48138e-5,0.310734,0.621423,0.932112,1.2428,1.55349,1.86418,2.17487,2.48556,2.79625  …  6.52452,6.83521,7.14589,7.45658,7.76727,8.07796,8.38865,8.69934,9.01003,9.32072],Any[PyObject <matplotlib.patches.Polygon object at 0x32bd6c150>])"
      ]
     },
     "execution_count": 43,
     "metadata": {},
     "output_type": "execute_result"
    }
   ],
   "source": [
    "plt[:hist](w_NH,bins = 30, normed = true, histtype=\"step\")\n",
    "#histogram(w_NH,nbins = 30, normed = true)"
   ]
  },
  {
   "cell_type": "code",
   "execution_count": 44,
   "metadata": {
    "collapsed": false
   },
   "outputs": [],
   "source": [
    "#deltaiNH = [NHsol[i][2]^2/2.  + NHsol[i][1]^2/2. + NHsol[i][3]^2/(2.*QNH)  + 1./b*NHsol[i][4] for i in 1:length(solNH.u)] - I0;"
   ]
  },
  {
   "cell_type": "markdown",
   "metadata": {},
   "source": [
    "### Logistic thermostat"
   ]
  },
  {
   "cell_type": "markdown",
   "metadata": {},
   "source": [
    "\\begin{eqnarray}\n",
    "\\dot{q} &=& p \\\\\n",
    "\\dot{p} &=& -\\left(1 + \\frac{t}{t_s} \\right)^2 q - \\frac{\\tanh\\left(\\frac{\\zeta}{2Q} \\right)p}{\\beta Q} \\\\\n",
    "\\dot{\\zeta} &=& p^2 - \\frac{1}{\\beta} \\\\\n",
    "\\dot{\\nu} &=& \\frac{\\tanh\\left(\\frac{\\zeta}{2Q} \\right)}{\\beta Q}\n",
    "\\end{eqnarray}"
   ]
  },
  {
   "cell_type": "code",
   "execution_count": 45,
   "metadata": {
    "collapsed": false
   },
   "outputs": [
    {
     "name": "stderr",
     "output_type": "stream",
     "text": [
      "WARNING: Method definition LogisticTh(Any, Any, Any) in module Main at In[22]:2 overwritten at In[45]:2.\n",
      "WARNING: Method definition #LogisticTh(Array{Any, 1}, Main.#LogisticTh, Any, Any, Any) in module Main overwritten.\n"
     ]
    },
    {
     "data": {
      "text/plain": [
       "LogisticTh (generic function with 1 method)"
      ]
     },
     "execution_count": 45,
     "metadata": {},
     "output_type": "execute_result"
    }
   ],
   "source": [
    "function LogisticTh(t, u, du; ts=1., beta = b, Q = QLog) \n",
    "    du[1] = u[2]\n",
    "    du[2] = -(1+t/ts)^2*u[1] - tanh(u[3]/(2*Q))*u[2]/(beta*Q)\n",
    "    #du[2] = -(1)^2*u[1] - u[3]*u[2]/Q  ##Isothermal dynamics (omega = 1)\n",
    "    du[3] = u[2]^2 - 1/beta\n",
    "    du[4] = tanh(u[3]/(2*Q))/(beta*Q)\n",
    "end "
   ]
  },
  {
   "cell_type": "code",
   "execution_count": 46,
   "metadata": {
    "collapsed": false
   },
   "outputs": [
    {
     "name": "stderr",
     "output_type": "stream",
     "text": [
      "WARNING: Method definition worklog() in module Main at In[23]:4 overwritten at In[46]:2.\n"
     ]
    },
    {
     "data": {
      "text/plain": [
       "worklog (generic function with 1 method)"
      ]
     },
     "execution_count": 46,
     "metadata": {},
     "output_type": "execute_result"
    }
   ],
   "source": [
    "function worklog()\n",
    "    q0,p0 = rand(Normal(0.0, 1./sqrt(b)),2)\n",
    "    z0 = rand(Logistic(0.0,QLog))\n",
    "    #q0,p0,z0=x,y,z1\n",
    "    nu0 = 0.0\n",
    "    u0 = [q0,p0,z0,nu0]\n",
    "    I0 = q0^2/2. + p0^2./2. - log(exp(z0/QLog)/(QLog*(1+exp(z0/QLog))^2.))/b\n",
    "    tspan = (0.0,1.0)\n",
    "    problog = ODEProblem(LogisticTh,u0,tspan)\n",
    "    sol = solve(problog, DP8());\n",
    "    Lsol = sol.u;\n",
    "    qf, pf, zf, nuf = Lsol[end];\n",
    "    If = 4.*qf^2/2. + pf^2./2. - log(exp(zf/QLog)/(QLog*(1+exp(zf/QLog))^2.))/b\n",
    "    return If - I0 + 1./b*nuf\n",
    "end"
   ]
  },
  {
   "cell_type": "code",
   "execution_count": 47,
   "metadata": {
    "collapsed": false
   },
   "outputs": [
    {
     "data": {
      "text/plain": [
       "0.28407400825406914"
      ]
     },
     "execution_count": 47,
     "metadata": {},
     "output_type": "execute_result"
    }
   ],
   "source": [
    "worklog()"
   ]
  },
  {
   "cell_type": "code",
   "execution_count": 48,
   "metadata": {
    "collapsed": false
   },
   "outputs": [],
   "source": [
    "Ns = 10^4\n",
    "w_log = zeros(Ns);\n",
    "for i in 1:Ns\n",
    "    w_log[i] = worklog()\n",
    "end"
   ]
  },
  {
   "cell_type": "code",
   "execution_count": 49,
   "metadata": {
    "collapsed": false
   },
   "outputs": [
    {
     "data": {
      "text/plain": [
       "0.3438773580466026"
      ]
     },
     "execution_count": 49,
     "metadata": {},
     "output_type": "execute_result"
    }
   ],
   "source": [
    "deltaF_log = -1/b*log(mean(exp(-b*w_log)))  ##Theoretical = 1.0397"
   ]
  },
  {
   "cell_type": "code",
   "execution_count": 50,
   "metadata": {
    "collapsed": false
   },
   "outputs": [
    {
     "data": {
      "text/plain": [
       "0.6020188173097868"
      ]
     },
     "execution_count": 50,
     "metadata": {},
     "output_type": "execute_result"
    }
   ],
   "source": [
    "mean(w_log)"
   ]
  },
  {
   "cell_type": "code",
   "execution_count": 51,
   "metadata": {
    "collapsed": false
   },
   "outputs": [
    {
     "data": {
      "image/png": "[encoded data removed]",
      "text/plain": [
       "PyPlot.Figure(PyObject <matplotlib.figure.Figure object at 0x32bec9cd0>)"
      ]
     },
     "metadata": {},
     "output_type": "display_data"
    },
    {
     "data": {
      "text/plain": [
       "([1.60193,0.66533,0.364291,0.239478,0.152211,0.107562,0.0713699,0.0480309,0.0348393,0.0314569  …  0.0,0.0,0.000338246,0.0,0.0,0.000338246,0.0,0.0,0.0,0.000676492],[8.44068e-6,0.295651,0.591294,0.886937,1.18258,1.47822,1.77386,2.06951,2.36515,2.66079  …  6.20851,6.50415,6.79979,7.09543,7.39108,7.68672,7.98236,8.27801,8.57365,8.86929],Any[PyObject <matplotlib.patches.Polygon object at 0x32bf4bad0>])"
      ]
     },
     "execution_count": 51,
     "metadata": {},
     "output_type": "execute_result"
    }
   ],
   "source": [
    "plt[:hist](w_log,bins = 30, normed = true, histtype=\"step\")\n",
    "#histogram(w_log,nbins = 30, normed = true)"
   ]
  },
  {
   "cell_type": "markdown",
   "metadata": {},
   "source": [
    "## Comparison"
   ]
  },
  {
   "cell_type": "code",
   "execution_count": 52,
   "metadata": {
    "collapsed": false
   },
   "outputs": [
    {
     "data": {
      "image/png": "[encoded data removed]",
      "text/plain": [
       "PyPlot.Figure(PyObject <matplotlib.figure.Figure object at 0x32bfabf90>)"
      ]
     },
     "metadata": {},
     "output_type": "display_data"
    },
    {
     "data": {
      "text/plain": [
       "([1.46838,0.474766,0.237253,0.140796,0.092049,0.0635268,0.0401904,0.023855,0.0173726,0.0111496  …  0.000259293,0.0,0.0,0.0,0.0,0.0,0.0,0.0,0.0,0.000259293],[-0.00113128,0.384533,0.770197,1.15586,1.54152,1.92719,2.31285,2.69852,3.08418,3.46984  …  8.09781,8.48348,8.86914,9.2548,9.64047,10.0261,10.4118,10.7975,11.1831,11.5688],Any[PyObject <matplotlib.patches.Polygon object at 0x32c10e550>])"
      ]
     },
     "execution_count": 52,
     "metadata": {},
     "output_type": "execute_result"
    }
   ],
   "source": [
    "plt[:hist](w_log,bins = 30, normed = true, histtype=\"step\", color=\"g\")\n",
    "plt[:hist](w_NH,bins = 30, normed = true, histtype=\"step\", color = \"blue\")\n",
    "plt[:hist](w_HH,bins = 30, normed = true, histtype=\"step\", color = \"red\")"
   ]
  },
  {
   "cell_type": "code",
   "execution_count": null,
   "metadata": {
    "collapsed": true
   },
   "outputs": [],
   "source": []
  },
  {
   "cell_type": "code",
   "execution_count": 53,
   "metadata": {
    "collapsed": false
   },
   "outputs": [
    {
     "data": {
      "image/png": "[encoded data removed]",
      "text/plain": [
       "PyPlot.Figure(PyObject <matplotlib.figure.Figure object at 0x32c130a10>)"
      ]
     },
     "metadata": {},
     "output_type": "display_data"
    },
    {
     "data": {
      "text/plain": [
       "([4.4504,2.11019,1.79016,1.77016,1.1101,1.1401,1.28011,1.0601,1.05009,1.02009  …  1.23011,1.1401,1.27011,1.25011,1.23011,1.31012,1.40013,1.27011,1.33012,1.24011],[8.01913e-9,0.00999911,0.0199982,0.0299973,0.0399964,0.0499955,0.0599946,0.0699937,0.0799928,0.0899919  …  0.909918,0.919918,0.929917,0.939916,0.949915,0.959914,0.969913,0.979912,0.989911,0.99991],Any[PyObject <matplotlib.patches.Rectangle object at 0x32c2b7210>,PyObject <matplotlib.patches.Rectangle object at 0x32c2b7890>,PyObject <matplotlib.patches.Rectangle object at 0x32c2b7f10>,PyObject <matplotlib.patches.Rectangle object at 0x32c2c15d0>,PyObject <matplotlib.patches.Rectangle object at 0x32c2c1c50>,PyObject <matplotlib.patches.Rectangle object at 0x32c2cd310>,PyObject <matplotlib.patches.Rectangle object at 0x32c2cd990>,PyObject <matplotlib.patches.Rectangle object at 0x32c2cde90>,PyObject <matplotlib.patches.Rectangle object at 0x32c2dc6d0>,PyObject <matplotlib.patches.Rectangle object at 0x32c2dcd50>  …  PyObject <matplotlib.patches.Rectangle object at 0x32c49c390>,PyObject <matplotlib.patches.Rectangle object at 0x32c49ca10>,PyObject <matplotlib.patches.Rectangle object at 0x32c49cf10>,PyObject <matplotlib.patches.Rectangle object at 0x32c4a8750>,PyObject <matplotlib.patches.Rectangle object at 0x32c4a8dd0>,PyObject <matplotlib.patches.Rectangle object at 0x32c4b6490>,PyObject <matplotlib.patches.Rectangle object at 0x32c4b6b10>,PyObject <matplotlib.patches.Rectangle object at 0x32c4c31d0>,PyObject <matplotlib.patches.Rectangle object at 0x32c4c3850>,PyObject <matplotlib.patches.Rectangle object at 0x32c4c3ed0>])"
      ]
     },
     "execution_count": 53,
     "metadata": {},
     "output_type": "execute_result"
    }
   ],
   "source": [
    "plt[:hist](exp(-b*w_NH), bins = 100, normed = true)\n",
    "#plt[:hist](exp(-b*w_NH),bins = 30, normed = true, histtype=\"step\", color = \"blue\")\n",
    "#plt[:hist](exp(-b*w_HH),bins = 30, normed = true, histtype=\"step\", color = \"red\")"
   ]
  },
  {
   "cell_type": "code",
   "execution_count": 54,
   "metadata": {
    "collapsed": false
   },
   "outputs": [
    {
     "data": {
      "image/png": "[encoded data removed]",
      "text/plain": [
       "PyPlot.Figure(PyObject <matplotlib.figure.Figure object at 0x32bfabe10>)"
      ]
     },
     "metadata": {},
     "output_type": "display_data"
    },
    {
     "data": {
      "text/plain": [
       "([4.50978,2.1651,1.56645,1.46668,1.18731,0.99774,1.0576,1.00772,0.937876,1.13742  …  1.08754,1.24717,1.04763,1.09751,1.32699,1.1474,1.2372,1.15738,1.26713,1.01769],[8.94292e-11,0.0100227,0.0200453,0.030068,0.0400906,0.0501133,0.0601359,0.0701586,0.0801812,0.0902039  …  0.912061,0.922084,0.932107,0.942129,0.952152,0.962175,0.972197,0.98222,0.992242,1.00227],Any[PyObject <matplotlib.patches.Rectangle object at 0x32c674090>,PyObject <matplotlib.patches.Rectangle object at 0x32c674710>,PyObject <matplotlib.patches.Rectangle object at 0x32c674d90>,PyObject <matplotlib.patches.Rectangle object at 0x32c681450>,PyObject <matplotlib.patches.Rectangle object at 0x32c681ad0>,PyObject <matplotlib.patches.Rectangle object at 0x32c681fd0>,PyObject <matplotlib.patches.Rectangle object at 0x32c68d810>,PyObject <matplotlib.patches.Rectangle object at 0x32c68de90>,PyObject <matplotlib.patches.Rectangle object at 0x32c699550>,PyObject <matplotlib.patches.Rectangle object at 0x32c699bd0>  …  PyObject <matplotlib.patches.Rectangle object at 0x32c8552d0>,PyObject <matplotlib.patches.Rectangle object at 0x32c855950>,PyObject <matplotlib.patches.Rectangle object at 0x32c855fd0>,PyObject <matplotlib.patches.Rectangle object at 0x32c865690>,PyObject <matplotlib.patches.Rectangle object at 0x32c865d10>,PyObject <matplotlib.patches.Rectangle object at 0x32c8733d0>,PyObject <matplotlib.patches.Rectangle object at 0x32c873a50>,PyObject <matplotlib.patches.Rectangle object at 0x32c873f50>,PyObject <matplotlib.patches.Rectangle object at 0x32c880790>,PyObject <matplotlib.patches.Rectangle object at 0x32c880e10>])"
      ]
     },
     "execution_count": 54,
     "metadata": {},
     "output_type": "execute_result"
    }
   ],
   "source": [
    "plt[:hist](exp(-b*w_HH), bins = 100, normed = true)"
   ]
  },
  {
   "cell_type": "code",
   "execution_count": 55,
   "metadata": {
    "collapsed": false
   },
   "outputs": [
    {
     "data": {
      "image/png": "[encoded data removed]",
      "text/plain": [
       "PyPlot.Figure(PyObject <matplotlib.figure.Figure object at 0x32c8b9110>)"
      ]
     },
     "metadata": {},
     "output_type": "display_data"
    },
    {
     "data": {
      "text/plain": [
       "([4.12007,1.93003,1.59003,1.37002,1.37002,1.15002,1.16002,1.03002,1.10002,0.910015  …  1.30002,1.17002,1.21002,1.27002,1.35002,1.30002,1.21002,1.41002,1.33002,1.49003],[1.97803e-8,0.00999985,0.0199997,0.0299995,0.0399993,0.0499992,0.059999,0.0699988,0.0799987,0.0899985  …  0.909985,0.919984,0.929984,0.939984,0.949984,0.959984,0.969984,0.979983,0.989983,0.999983],Any[PyObject <matplotlib.patches.Rectangle object at 0x32ca19fd0>,PyObject <matplotlib.patches.Rectangle object at 0x32ca28690>,PyObject <matplotlib.patches.Rectangle object at 0x32ca28d10>,PyObject <matplotlib.patches.Rectangle object at 0x32ca323d0>,PyObject <matplotlib.patches.Rectangle object at 0x32ca32a50>,PyObject <matplotlib.patches.Rectangle object at 0x32ca32f50>,PyObject <matplotlib.patches.Rectangle object at 0x32ca40790>,PyObject <matplotlib.patches.Rectangle object at 0x32ca40e10>,PyObject <matplotlib.patches.Rectangle object at 0x32ca4d4d0>,PyObject <matplotlib.patches.Rectangle object at 0x32ca4db50>  …  PyObject <matplotlib.patches.Rectangle object at 0x32cc0a250>,PyObject <matplotlib.patches.Rectangle object at 0x32cc0a8d0>,PyObject <matplotlib.patches.Rectangle object at 0x32cc0af50>,PyObject <matplotlib.patches.Rectangle object at 0x32cc18610>,PyObject <matplotlib.patches.Rectangle object at 0x32cc18c90>,PyObject <matplotlib.patches.Rectangle object at 0x32cc25350>,PyObject <matplotlib.patches.Rectangle object at 0x32cc259d0>,PyObject <matplotlib.patches.Rectangle object at 0x32cc25ed0>,PyObject <matplotlib.patches.Rectangle object at 0x32cc34710>,PyObject <matplotlib.patches.Rectangle object at 0x32cc34d90>])"
      ]
     },
     "execution_count": 55,
     "metadata": {},
     "output_type": "execute_result"
    }
   ],
   "source": [
    "plt[:hist](exp(-b*w_log), bins = 100, normed = true)"
   ]
  },
  {
   "cell_type": "code",
   "execution_count": 56,
   "metadata": {
    "collapsed": false
   },
   "outputs": [
    {
     "data": {
      "text/plain": [
       "(0.9999831187905901,1.9780254455468446e-8)"
      ]
     },
     "execution_count": 56,
     "metadata": {},
     "output_type": "execute_result"
    }
   ],
   "source": [
    "maximum(exp(-b*w_log)), minimum(exp(-b*w_log))"
   ]
  },
  {
   "cell_type": "code",
   "execution_count": 34,
   "metadata": {
    "collapsed": false
   },
   "outputs": [
    {
     "data": {
      "text/plain": [
       "(1.0022651227844392,8.942915338444728e-11)"
      ]
     },
     "execution_count": 34,
     "metadata": {},
     "output_type": "execute_result"
    }
   ],
   "source": [
    "maximum(exp(-b*w_HH)), minimum(exp(-b*w_HH))"
   ]
  },
  {
   "cell_type": "code",
   "execution_count": 35,
   "metadata": {
    "collapsed": false
   },
   "outputs": [
    {
     "data": {
      "text/plain": [
       "(2.073900142481147e-8,4.963331848115047e-23)"
      ]
     },
     "execution_count": 35,
     "metadata": {},
     "output_type": "execute_result"
    }
   ],
   "source": [
    "mean(exp(-b*w_log)), std(exp(-b*w_log))"
   ]
  },
  {
   "cell_type": "code",
   "execution_count": 36,
   "metadata": {
    "collapsed": false
   },
   "outputs": [
    {
     "data": {
      "text/plain": [
       "(0.506575057169108,0.31597156645785185)"
      ]
     },
     "execution_count": 36,
     "metadata": {},
     "output_type": "execute_result"
    }
   ],
   "source": [
    "mean(exp(-b*w_HH)), std(exp(-b*w_HH))"
   ]
  },
  {
   "cell_type": "code",
   "execution_count": 37,
   "metadata": {
    "collapsed": false
   },
   "outputs": [
    {
     "data": {
      "text/plain": [
       "(1.3968998828233629e-8,2.8125547139318597e-23)"
      ]
     },
     "execution_count": 37,
     "metadata": {},
     "output_type": "execute_result"
    }
   ],
   "source": [
    "mean(exp(-b*w_NH)), std(exp(-b*w_NH))"
   ]
  },
  {
   "cell_type": "code",
   "execution_count": null,
   "metadata": {
    "collapsed": true
   },
   "outputs": [],
   "source": []
  }
 ],
 "metadata": {
  "kernelspec": {
   "display_name": "Julia 0.5.0",
   "language": "julia",
   "name": "julia-0.5"
  },
  "language_info": {
   "file_extension": ".jl",
   "mimetype": "application/julia",
   "name": "julia",
   "version": "0.5.1"
  }
 },
 "nbformat": 4,
 "nbformat_minor": 0
}
