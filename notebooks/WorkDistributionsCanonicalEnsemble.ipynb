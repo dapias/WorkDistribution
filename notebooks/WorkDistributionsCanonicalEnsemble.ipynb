{
 "cells": [
  {
   "cell_type": "markdown",
   "metadata": {},
   "source": [
    "## Work distributions for a harmonic oscillator in the canonical ensemble"
   ]
  },
  {
   "cell_type": "markdown",
   "metadata": {},
   "source": [
    "### Hoover-Holian"
   ]
  },
  {
   "cell_type": "markdown",
   "metadata": {},
   "source": [
    "\\begin{eqnarray}\n",
    "\\dot{q} &=& p \\\\\n",
    "\\dot{p} &=& - \\left(1 + \\frac{t}{t_s} \\right)^2 q - {\\zeta p} - \\beta \\xi p^3 \\\\\n",
    "\\dot{\\zeta} &=& \\frac{\\beta p^2 - 1}{\\tau^2} \\\\\n",
    "\\dot{\\xi} &=& \\frac{\\beta^2 p^4 - 3 \\beta p^2}{\\tau^2} \\\\\n",
    "\\dot{\\nu} &=& \\zeta + 3\\beta \\xi p^2\n",
    "\\end{eqnarray}\n"
   ]
  },
  {
   "cell_type": "markdown",
   "metadata": {},
   "source": [
    "$$ H = \\frac{p^2}{2} + \\omega_{\\lambda}^2 \\frac{x^2}{2} $$\n",
    "con \n",
    "$$ \\omega_{\\lambda} = 1 + \\lambda \\qquad \\lambda(t) = \\frac{t}{t_s} $$"
   ]
  },
  {
   "cell_type": "code",
   "execution_count": 1,
   "metadata": {
    "collapsed": false
   },
   "outputs": [],
   "source": [
    "using DifferentialEquations\n",
    "import Distributions.Normal\n",
    "import Distributions.Logistic"
   ]
  },
  {
   "cell_type": "code",
   "execution_count": 2,
   "metadata": {
    "collapsed": true
   },
   "outputs": [],
   "source": [
    "using PyPlot"
   ]
  },
  {
   "cell_type": "code",
   "execution_count": 3,
   "metadata": {
    "collapsed": true
   },
   "outputs": [],
   "source": [
    "const b = 1.0/1.5;\n",
    "const QNH = 1.0;\n",
    "const tauHH = 1.0;\n",
    "const QLog = 1.0;\n",
    "Ns = 10^6;"
   ]
  },
  {
   "cell_type": "code",
   "execution_count": 4,
   "metadata": {
    "collapsed": false
   },
   "outputs": [
    {
     "data": {
      "text/plain": [
       "HooverHolian (generic function with 1 method)"
      ]
     },
     "execution_count": 4,
     "metadata": {},
     "output_type": "execute_result"
    }
   ],
   "source": [
    "function HooverHolian(t, u, du; tau=tauHH, ts=1., beta = b) \n",
    "    du[1] = u[2]\n",
    "    du[2] = -(1+t/ts)^2*u[1] - u[3]*u[2] - beta*u[4]*u[2]^3\n",
    "    #du[2] = -(1)^2*u[1] - u[3]*u[2] - beta*u[4]*u[2]^3   ##Isothermal dynamics (omega = 1)\n",
    "    du[3] = (beta*u[2]^2 - 1)/tau^2 \n",
    "    du[4] = (beta^2*u[2]^4 - 3*beta*u[2]^2)/tau^2\n",
    "    du[5] = u[3] + 3*beta*u[4]*u[2]^2\n",
    "end "
   ]
  },
  {
   "cell_type": "code",
   "execution_count": 5,
   "metadata": {
    "collapsed": false
   },
   "outputs": [
    {
     "data": {
      "text/plain": [
       "workHH (generic function with 1 method)"
      ]
     },
     "execution_count": 5,
     "metadata": {},
     "output_type": "execute_result"
    }
   ],
   "source": [
    "function workHH()\n",
    "    q0,p0 = rand(Normal(0.0, 1./sqrt(b)),2)\n",
    "    zeta0, xi0 = rand(Normal(0.0, 1./tauHH),2)\n",
    "    nu0 = 0.0\n",
    "    u0HH = [q0,p0,zeta0,xi0, nu0]\n",
    "    I0 = q0^2/2. + p0^2./2. + tauHH^2.*zeta0^2./(2*b) + tauHH^2.*xi0^2/(2*b)\n",
    "    tspan = (0.0,1.0)\n",
    "    probHH = ODEProblem(HooverHolian,u0HH,tspan)\n",
    "    solHH = solve(probHH);\n",
    "    HHsol = solHH.u;\n",
    "    qf, pf, zetaf, xif, nuf = HHsol[end];\n",
    "    If = 4.*qf^2/2. + pf^2./2. + tauHH^2.*zetaf^2./(2*b) + tauHH^2.*xif^2/(2*b)\n",
    "    return If - I0 + 1./b*nuf\n",
    "end"
   ]
  },
  {
   "cell_type": "code",
   "execution_count": 6,
   "metadata": {
    "collapsed": false
   },
   "outputs": [
    {
     "data": {
      "text/html": [
       "1.6269824852697279"
      ],
      "text/plain": [
       "1.6269824852697279"
      ]
     },
     "execution_count": 6,
     "metadata": {},
     "output_type": "execute_result"
    }
   ],
   "source": [
    "workHH()"
   ]
  },
  {
   "cell_type": "code",
   "execution_count": 7,
   "metadata": {
    "collapsed": false
   },
   "outputs": [],
   "source": [
    "#Ns = 10^5\n",
    "w_HH = zeros(Ns);\n",
    "for i in 1:Ns\n",
    "    w_HH[i] = workHH()\n",
    "end"
   ]
  },
  {
   "cell_type": "code",
   "execution_count": 8,
   "metadata": {
    "collapsed": false
   },
   "outputs": [
    {
     "data": {
      "text/html": [
       "1.0378856898739406"
      ],
      "text/plain": [
       "1.0378856898739406"
      ]
     },
     "execution_count": 8,
     "metadata": {},
     "output_type": "execute_result"
    }
   ],
   "source": [
    "deltaF_HH = -1/b.*log(mean(exp(-b*w_HH)))  ##Theoretical = 1.0397"
   ]
  },
  {
   "cell_type": "code",
   "execution_count": 9,
   "metadata": {
    "collapsed": false
   },
   "outputs": [
    {
     "data": {
      "text/html": [
       "1.8776571438262015"
      ],
      "text/plain": [
       "1.8776571438262015"
      ]
     },
     "execution_count": 9,
     "metadata": {},
     "output_type": "execute_result"
    }
   ],
   "source": [
    "mean(w_HH)"
   ]
  },
  {
   "cell_type": "code",
   "execution_count": 10,
   "metadata": {
    "collapsed": false
   },
   "outputs": [
    {
     "data": {
      "image/png": "[encoded data removed]",
      "text/plain": [
       "PyPlot.Figure(PyObject <matplotlib.figure.Figure object at 0x7fee98c4abd0>)"
      ]
     },
     "metadata": {},
     "output_type": "display_data"
    },
    {
     "data": {
      "text/plain": [
       "([0.356246,0.0917654,0.0388412,0.0187574,0.0096066,0.00504173,0.00263324,0.00149847,0.000854236,0.000469488  …  0.0,0.0,5.26332e-7,0.0,0.0,0.0,0.0,0.0,0.0,5.26332e-7],[-0.0757324,1.82421,3.72415,5.6241,7.52404,9.42398,11.3239,13.2239,15.1238,17.0238  …  39.8231,41.723,43.623,45.5229,47.4228,49.3228,51.2227,53.1227,55.0226,56.9226],Any[PyObject <matplotlib.patches.Polygon object at 0x7fee9844fe90>])"
      ]
     },
     "execution_count": 10,
     "metadata": {},
     "output_type": "execute_result"
    }
   ],
   "source": [
    "plt[:hist](w_HH,bins = 30, normed = true, histtype=\"step\")\n",
    "#histogram(w_HH,nbins = 30, normed = true)"
   ]
  },
  {
   "cell_type": "code",
   "execution_count": 11,
   "metadata": {
    "collapsed": false
   },
   "outputs": [],
   "source": [
    "#deltaiHH = [HHsol[i][2]^2/2.  + HHsol[i][1]^2/2. + tauHH^2.*HHsol[i][3]^2/(2.*b) + tauHH^2.*HHsol[i][4]^2/(2.*b) + 1./b*HHsol[i][5] for i in 1:length(HHsol)] - I0;"
   ]
  },
  {
   "cell_type": "code",
   "execution_count": 12,
   "metadata": {
    "collapsed": false
   },
   "outputs": [],
   "source": [
    "#plot(deltaiHH)"
   ]
  },
  {
   "cell_type": "markdown",
   "metadata": {},
   "source": [
    "### Nosé-Hoover"
   ]
  },
  {
   "cell_type": "markdown",
   "metadata": {},
   "source": [
    "$$ f(\\zeta) = \\sqrt{\\frac{\\beta}{2\\pi Q}} \\exp\\left(-\\frac{\\beta \\zeta^2}{2 Q} \\right) $$"
   ]
  },
  {
   "cell_type": "markdown",
   "metadata": {},
   "source": [
    "\\begin{eqnarray}\n",
    "\\dot{q} &=& p \\\\\n",
    "\\dot{p} &=& -\\left(1 + \\frac{t}{t_s} \\right)^2 q - \\frac{\\zeta p}{Q} \\\\\n",
    "\\dot{\\zeta} &=& p^2 - \\frac{1}{\\beta} \\\\\n",
    "\\dot{\\nu} &=& \\frac{\\zeta}{Q}\n",
    "\\end{eqnarray}"
   ]
  },
  {
   "cell_type": "code",
   "execution_count": 13,
   "metadata": {
    "collapsed": false
   },
   "outputs": [
    {
     "data": {
      "text/plain": [
       "NoseHoover (generic function with 1 method)"
      ]
     },
     "execution_count": 13,
     "metadata": {},
     "output_type": "execute_result"
    }
   ],
   "source": [
    "function NoseHoover(t, u, du; ts=1., beta = b, Q = QNH) \n",
    "    du[1] = u[2]\n",
    "    du[2] = -(1+t/ts)^2*u[1] - u[3]*u[2]/Q \n",
    "    #du[2] = -(1)^2*u[1] - u[3]*u[2]/Q  ##Isothermal dynamics (omega = 1)\n",
    "    du[3] = u[2]^2 - 1/beta\n",
    "    du[4] = u[3]/Q\n",
    "end "
   ]
  },
  {
   "cell_type": "code",
   "execution_count": 14,
   "metadata": {
    "collapsed": false
   },
   "outputs": [
    {
     "data": {
      "text/plain": [
       "workNH (generic function with 1 method)"
      ]
     },
     "execution_count": 14,
     "metadata": {},
     "output_type": "execute_result"
    }
   ],
   "source": [
    "function workNH()\n",
    "    q0,p0 = rand(Normal(0.0, 1./sqrt(b)),2)\n",
    "    zeta0 = rand(Normal(0.0, QNH/sqrt(b)))\n",
    "    nu0 = 0.0\n",
    "    u0NH = [q0,p0,zeta0,nu0]\n",
    "    I0 = q0^2/2. + p0^2./2. + zeta0^2./(2*QNH)\n",
    "    tspan = (0.0,1.0)\n",
    "    probNH = ODEProblem(NoseHoover,u0NH,tspan)\n",
    "    solNH = solve(probNH);\n",
    "    NHsol = solNH.u;\n",
    "    qf, pf, zetaf, nuf = NHsol[end];\n",
    "    If = 4.*qf^2/2. + pf^2./2. + zetaf^2./(2*QNH) \n",
    "    return If - I0 + 1./b*nuf\n",
    "end"
   ]
  },
  {
   "cell_type": "code",
   "execution_count": 15,
   "metadata": {
    "collapsed": false
   },
   "outputs": [
    {
     "data": {
      "text/html": [
       "1.846106312413717"
      ],
      "text/plain": [
       "1.846106312413717"
      ]
     },
     "execution_count": 15,
     "metadata": {},
     "output_type": "execute_result"
    }
   ],
   "source": [
    "workNH()"
   ]
  },
  {
   "cell_type": "code",
   "execution_count": 16,
   "metadata": {
    "collapsed": true
   },
   "outputs": [],
   "source": [
    "#Ns = 10^5\n",
    "w_NH = zeros(Ns);\n",
    "for i in 1:Ns\n",
    "    w_NH[i] = workNH()\n",
    "end"
   ]
  },
  {
   "cell_type": "code",
   "execution_count": 17,
   "metadata": {
    "collapsed": false
   },
   "outputs": [
    {
     "data": {
      "text/html": [
       "1.038684652723422"
      ],
      "text/plain": [
       "1.038684652723422"
      ]
     },
     "execution_count": 17,
     "metadata": {},
     "output_type": "execute_result"
    }
   ],
   "source": [
    "deltaF_NH = -1/b.*log(mean(exp(-b*w_NH)))  ##Theoretical = 1.0397"
   ]
  },
  {
   "cell_type": "code",
   "execution_count": 18,
   "metadata": {
    "collapsed": false
   },
   "outputs": [
    {
     "data": {
      "text/html": [
       "1.8590272552709397"
      ],
      "text/plain": [
       "1.8590272552709397"
      ]
     },
     "execution_count": 18,
     "metadata": {},
     "output_type": "execute_result"
    }
   ],
   "source": [
    "mean(w_NH)"
   ]
  },
  {
   "cell_type": "code",
   "execution_count": 19,
   "metadata": {
    "collapsed": false
   },
   "outputs": [
    {
     "data": {
      "image/png": "[encoded data removed]",
      "text/plain": [
       "PyPlot.Figure(PyObject <matplotlib.figure.Figure object at 0x7fee98c27f50>)"
      ]
     },
     "metadata": {},
     "output_type": "display_data"
    },
    {
     "data": {
      "text/plain": [
       "([0.443022,0.138457,0.0687661,0.0387998,0.0229538,0.0139307,0.00857328,0.00532148,0.00349543,0.00220235  …  2.77355e-5,1.64914e-5,1.19937e-5,6.74648e-6,4.49766e-6,2.99844e-6,1.49922e-6,7.49609e-7,0.0,1.49922e-6],[1.79551e-6,1.33403,2.66806,4.00209,5.33612,6.67014,8.00417,9.3382,10.6722,12.0063  …  28.0146,29.3486,30.6827,32.0167,33.3507,34.6847,36.0188,37.3528,38.6868,40.0209],Any[PyObject <matplotlib.patches.Polygon object at 0x7fee98b0b890>])"
      ]
     },
     "execution_count": 19,
     "metadata": {},
     "output_type": "execute_result"
    }
   ],
   "source": [
    "plt[:hist](w_NH,bins = 30, normed = true, histtype=\"step\")\n",
    "#histogram(w_NH,nbins = 30, normed = true)"
   ]
  },
  {
   "cell_type": "code",
   "execution_count": 20,
   "metadata": {
    "collapsed": false
   },
   "outputs": [],
   "source": [
    "#deltaiNH = [NHsol[i][2]^2/2.  + NHsol[i][1]^2/2. + NHsol[i][3]^2/(2.*QNH)  + 1./b*NHsol[i][4] for i in 1:length(solNH.u)] - I0;"
   ]
  },
  {
   "cell_type": "markdown",
   "metadata": {},
   "source": [
    "### Logistic thermostat"
   ]
  },
  {
   "cell_type": "markdown",
   "metadata": {},
   "source": [
    "\\begin{eqnarray}\n",
    "\\dot{q} &=& p \\\\\n",
    "\\dot{p} &=& -\\left(1 + \\frac{t}{t_s} \\right)^2 q - \\frac{\\tanh\\left(\\frac{\\zeta}{2Q} \\right)p}{\\beta Q} \\\\\n",
    "\\dot{\\zeta} &=& p^2 - \\frac{1}{\\beta} \\\\\n",
    "\\dot{\\nu} &=& \\frac{\\tanh\\left(\\frac{\\zeta}{2Q} \\right)}{\\beta Q}\n",
    "\\end{eqnarray}"
   ]
  },
  {
   "cell_type": "code",
   "execution_count": 21,
   "metadata": {
    "collapsed": false
   },
   "outputs": [
    {
     "data": {
      "text/plain": [
       "LogisticTh (generic function with 1 method)"
      ]
     },
     "execution_count": 21,
     "metadata": {},
     "output_type": "execute_result"
    }
   ],
   "source": [
    "function LogisticTh(t, u, du; ts=1., beta = b, Q = Qlog) \n",
    "    du[1] = u[2]\n",
    "    du[2] = -(1+t/ts)^2*u[1] - tanh(u[3]/(2*Q))*u[2]/(beta*Q)\n",
    "    #du[2] = -(1)^2*u[1] - u[3]*u[2]/Q  ##Isothermal dynamics (omega = 1)\n",
    "    du[3] = u[2]^2 - 1/beta\n",
    "    du[4] = tanh(u[3]/(2*Q))*u[2]/(beta*Q)\n",
    "end "
   ]
  },
  {
   "cell_type": "code",
   "execution_count": 22,
   "metadata": {
    "collapsed": false
   },
   "outputs": [
    {
     "data": {
      "text/plain": [
       "worklog (generic function with 1 method)"
      ]
     },
     "execution_count": 22,
     "metadata": {},
     "output_type": "execute_result"
    }
   ],
   "source": [
    "function worklog()\n",
    "    q0,p0 = rand(Normal(0.0, 1./sqrt(b)),2)\n",
    "    z0 = rand(Logistic(0.0,QLog))\n",
    "    nu0 = 0.0\n",
    "    u0NH = [q0,p0,z0,nu0]\n",
    "    I0 = q0^2/2. + p0^2./2. - log(exp(z0/QLog)/(QLog*(1+exp(z0/QLog))^2.))/b\n",
    "    tspan = (0.0,1.0)\n",
    "    probNH = ODEProblem(NoseHoover,u0NH,tspan)\n",
    "    solNH = solve(probNH);\n",
    "    NHsol = solNH.u;\n",
    "    qf, pf, zf, nuf = NHsol[end];\n",
    "    If = 4.*qf^2/2. + pf^2./2. - log(exp(zf/QLog)/(QLog*(1+exp(zf/QLog))^2.))/b\n",
    "    return If - I0 + 1./b*nuf\n",
    "end"
   ]
  },
  {
   "cell_type": "code",
   "execution_count": 23,
   "metadata": {
    "collapsed": false
   },
   "outputs": [
    {
     "data": {
      "text/html": [
       "4.077962515772247"
      ],
      "text/plain": [
       "4.077962515772247"
      ]
     },
     "execution_count": 23,
     "metadata": {},
     "output_type": "execute_result"
    }
   ],
   "source": [
    "worklog()"
   ]
  },
  {
   "cell_type": "code",
   "execution_count": 24,
   "metadata": {
    "collapsed": true
   },
   "outputs": [],
   "source": [
    "#Ns = 10^5\n",
    "w_log = zeros(Ns);\n",
    "for i in 1:Ns\n",
    "    w_log[i] = worklog()\n",
    "end"
   ]
  },
  {
   "cell_type": "code",
   "execution_count": 25,
   "metadata": {
    "collapsed": false
   },
   "outputs": [
    {
     "data": {
      "text/html": [
       "1.0387919317451115"
      ],
      "text/plain": [
       "1.0387919317451115"
      ]
     },
     "execution_count": 25,
     "metadata": {},
     "output_type": "execute_result"
    }
   ],
   "source": [
    "deltaF_log = -1/b.*log(mean(exp(-b*w_log)))  ##Theoretical = 1.0397"
   ]
  },
  {
   "cell_type": "code",
   "execution_count": 26,
   "metadata": {
    "collapsed": false
   },
   "outputs": [
    {
     "data": {
      "text/html": [
       "2.073158702003492"
      ],
      "text/plain": [
       "2.073158702003492"
      ]
     },
     "execution_count": 26,
     "metadata": {},
     "output_type": "execute_result"
    }
   ],
   "source": [
    "mean(w_log)"
   ]
  },
  {
   "cell_type": "code",
   "execution_count": 27,
   "metadata": {
    "collapsed": false
   },
   "outputs": [
    {
     "data": {
      "image/png": "[encoded data removed]",
      "text/plain": [
       "PyPlot.Figure(PyObject <matplotlib.figure.Figure object at 0x7fee98a5ae50>)"
      ]
     },
     "metadata": {},
     "output_type": "display_data"
    },
    {
     "data": {
      "text/plain": [
       "([1.05707e-5,0.000420387,0.0446545,0.251699,0.0673416,0.0242544,0.00975794,0.00419574,0.00199623,0.000963963  …  3.65908e-6,4.87877e-6,1.21969e-6,8.13128e-7,8.13128e-7,4.06564e-7,0.0,0.0,0.0,4.06564e-7],[-7.24917,-4.78953,-2.3299,0.129742,2.58938,5.04902,7.50865,9.96829,12.4279,14.8876  …  44.4032,46.8629,49.3225,51.7821,54.2418,56.7014,59.161,61.6207,64.0803,66.54],Any[PyObject <matplotlib.patches.Polygon object at 0x7fee9896d150>])"
      ]
     },
     "execution_count": 27,
     "metadata": {},
     "output_type": "execute_result"
    }
   ],
   "source": [
    "plt[:hist](w_log,bins = 30, normed = true, histtype=\"step\")\n",
    "#histogram(w_log,nbins = 30, normed = true)"
   ]
  },
  {
   "cell_type": "markdown",
   "metadata": {},
   "source": [
    "## Comparison"
   ]
  },
  {
   "cell_type": "code",
   "execution_count": 28,
   "metadata": {
    "collapsed": false
   },
   "outputs": [
    {
     "data": {
      "image/png": "[encoded data removed]",
      "text/plain": [
       "PyPlot.Figure(PyObject <matplotlib.figure.Figure object at 0x7fee98921fd0>)"
      ]
     },
     "metadata": {},
     "output_type": "display_data"
    },
    {
     "data": {
      "text/plain": [
       "([0.356246,0.0917654,0.0388412,0.0187574,0.0096066,0.00504173,0.00263324,0.00149847,0.000854236,0.000469488  …  0.0,0.0,5.26332e-7,0.0,0.0,0.0,0.0,0.0,0.0,5.26332e-7],[-0.0757324,1.82421,3.72415,5.6241,7.52404,9.42398,11.3239,13.2239,15.1238,17.0238  …  39.8231,41.723,43.623,45.5229,47.4228,49.3228,51.2227,53.1227,55.0226,56.9226],Any[PyObject <matplotlib.patches.Polygon object at 0x7fee95fc0510>])"
      ]
     },
     "execution_count": 28,
     "metadata": {},
     "output_type": "execute_result"
    }
   ],
   "source": [
    "plt[:hist](w_log,bins = 30, normed = true, histtype=\"step\", color=\"g\")\n",
    "plt[:hist](w_NH,bins = 30, normed = true, histtype=\"step\", color = \"blue\")\n",
    "plt[:hist](w_HH,bins = 30, normed = true, histtype=\"step\", color = \"red\")"
   ]
  },
  {
   "cell_type": "code",
   "execution_count": null,
   "metadata": {
    "collapsed": true
   },
   "outputs": [],
   "source": []
  }
 ],
 "metadata": {
  "kernelspec": {
   "display_name": "Julia 0.5.0",
   "language": "julia",
   "name": "julia-0.5"
  },
  "language_info": {
   "file_extension": ".jl",
   "mimetype": "application/julia",
   "name": "julia",
   "version": "0.5.0"
  }
 },
 "nbformat": 4,
 "nbformat_minor": 0
}
