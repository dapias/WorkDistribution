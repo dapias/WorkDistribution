{
 "cells": [
  {
   "cell_type": "markdown",
   "metadata": {},
   "source": [
    "## Work distributions for a harmonic oscillator in the canonical ensemble"
   ]
  },
  {
   "cell_type": "code",
   "execution_count": 1,
   "metadata": {
    "collapsed": false
   },
   "outputs": [],
   "source": [
    "using DifferentialEquations\n",
    "import Distributions.Normal\n",
    "import Distributions.Logistic"
   ]
  },
  {
   "cell_type": "code",
   "execution_count": 2,
   "metadata": {
    "collapsed": false
   },
   "outputs": [],
   "source": [
    "using PyPlot"
   ]
  },
  {
   "cell_type": "code",
   "execution_count": 3,
   "metadata": {
    "collapsed": false
   },
   "outputs": [],
   "source": [
    "const b = 1.0/1.5;\n",
    "const QNH = 1.0;\n",
    "const tauHH = 1.0;\n",
    "const QLog = 1.0;\n",
    "Ns = 10^5;"
   ]
  },
  {
   "cell_type": "markdown",
   "metadata": {},
   "source": [
    "### Nosé-Hoover"
   ]
  },
  {
   "cell_type": "markdown",
   "metadata": {},
   "source": [
    "$$ f(\\zeta) = \\sqrt{\\frac{\\beta}{2\\pi Q}} \\exp\\left(-\\frac{\\beta \\zeta^2}{2 Q} \\right) $$"
   ]
  },
  {
   "cell_type": "markdown",
   "metadata": {},
   "source": [
    "\\begin{eqnarray}\n",
    "\\dot{q} &=& p \\\\\n",
    "\\dot{p} &=& -\\left(1 + \\frac{t}{t_s} \\right)^2 q - \\frac{\\zeta p}{Q} \\\\\n",
    "\\dot{\\zeta} &=& p^2 - \\frac{1}{\\beta} \\\\\n",
    "\\dot{\\nu} &=& \\frac{\\zeta}{Q}\n",
    "\\end{eqnarray}"
   ]
  },
  {
   "cell_type": "code",
   "execution_count": 14,
   "metadata": {
    "collapsed": false
   },
   "outputs": [
    {
     "data": {
      "text/plain": [
       "NoseHoover (generic function with 1 method)"
      ]
     },
     "execution_count": 14,
     "metadata": {},
     "output_type": "execute_result"
    }
   ],
   "source": [
    "function NoseHoover(t, u, du; ts=1., beta = b, Q = QNH) \n",
    "    du[1] = u[2]\n",
    "    du[2] = -(1+t/ts)^2*u[1] - u[3]*u[2]/Q \n",
    "    #du[2] = -(1)^2*u[1] - u[3]*u[2]/Q  ##Isothermal dynamics (omega = 1)\n",
    "    du[3] = u[2]^2 - 1/beta\n",
    "    du[4] = u[3]/Q\n",
    "end "
   ]
  },
  {
   "cell_type": "code",
   "execution_count": 15,
   "metadata": {
    "collapsed": false
   },
   "outputs": [
    {
     "data": {
      "text/plain": [
       "rhoNH (generic function with 1 method)"
      ]
     },
     "execution_count": 15,
     "metadata": {},
     "output_type": "execute_result"
    }
   ],
   "source": [
    "function rhoNH(z; beta = b, Q = QNH)\n",
    "    return (beta/(2*pi*Q))^(1/2)*exp(-beta*z^2/(2*Q))\n",
    "end"
   ]
  },
  {
   "cell_type": "code",
   "execution_count": 16,
   "metadata": {
    "collapsed": false
   },
   "outputs": [
    {
     "data": {
      "text/plain": [
       "heat (generic function with 1 method)"
      ]
     },
     "execution_count": 16,
     "metadata": {},
     "output_type": "execute_result"
    }
   ],
   "source": [
    "function heat(rho::Function, y0::Float64, yf::Float64, vf; beta = b)\n",
    "    psif = -1/b*log(rho(yf))\n",
    "    psi0 = -1/b*log(rho(y0))\n",
    "    q = -psif + psi0 - vf/b\n",
    "end"
   ]
  },
  {
   "cell_type": "code",
   "execution_count": 17,
   "metadata": {
    "collapsed": false
   },
   "outputs": [
    {
     "data": {
      "text/plain": [
       "workNH (generic function with 1 method)"
      ]
     },
     "execution_count": 17,
     "metadata": {},
     "output_type": "execute_result"
    }
   ],
   "source": [
    "function workNH()\n",
    "    q0,p0 = rand(Normal(0.0, 1./sqrt(b)),2)\n",
    "    zeta0 = rand(Normal(0.0, QNH/sqrt(b)))\n",
    "    #q0,p0,zeta0=x,y,z1\n",
    "    nu0 = 0.0\n",
    "    u0NH = [q0,p0,zeta0,nu0]\n",
    "    I0 = q0^2/2. + p0^2./2. + zeta0^2./(2*QNH)\n",
    "    tspan = (0.0,1.0)\n",
    "    probNH = ODEProblem(NoseHoover,u0NH,tspan)\n",
    "    solNH = solve(probNH,DP8());\n",
    "    NHsol = solNH.u;\n",
    "    qf, pf, zetaf, nuf = NHsol[end];\n",
    "    If = 4.*qf^2/2. + pf^2./2. + zetaf^2./(2*QNH) \n",
    "    return If - I0 + 1./b*nuf\n",
    "end"
   ]
  },
  {
   "cell_type": "code",
   "execution_count": 18,
   "metadata": {
    "collapsed": false
   },
   "outputs": [
    {
     "data": {
      "text/plain": [
       "qNH (generic function with 1 method)"
      ]
     },
     "execution_count": 18,
     "metadata": {},
     "output_type": "execute_result"
    }
   ],
   "source": [
    "function qNH()\n",
    "    q0,p0 = rand(Normal(0.0, 1./sqrt(b)),2)\n",
    "    zeta0 = rand(Normal(0.0, QNH/sqrt(b)))\n",
    "    #q0,p0,zeta0=x,y,z1\n",
    "    nu0 = 0.0\n",
    "    u0NH = [q0,p0,zeta0,nu0]\n",
    "    tspan = (0.0,1.0)\n",
    "    probNH = ODEProblem(NoseHoover,u0NH,tspan)\n",
    "    solNH = solve(probNH,DP8());\n",
    "    NHsol = solNH.u;\n",
    "    qf, pf, zetaf, nuf = NHsol[end];\n",
    "    return heat(rhoNH, zeta0, zetaf, nuf)\n",
    "end"
   ]
  },
  {
   "cell_type": "code",
   "execution_count": 19,
   "metadata": {
    "collapsed": false
   },
   "outputs": [
    {
     "data": {
      "text/html": [
       "0.4479534763198726"
      ],
      "text/plain": [
       "0.4479534763198726"
      ]
     },
     "execution_count": 19,
     "metadata": {},
     "output_type": "execute_result"
    }
   ],
   "source": [
    "qNH()"
   ]
  },
  {
   "cell_type": "code",
   "execution_count": 20,
   "metadata": {
    "collapsed": false
   },
   "outputs": [
    {
     "data": {
      "text/html": [
       "1.5806800160138137"
      ],
      "text/plain": [
       "1.5806800160138137"
      ]
     },
     "execution_count": 20,
     "metadata": {},
     "output_type": "execute_result"
    }
   ],
   "source": [
    "workNH()"
   ]
  },
  {
   "cell_type": "code",
   "execution_count": 21,
   "metadata": {
    "collapsed": false
   },
   "outputs": [
    {
     "data": {
      "text/plain": [
       "(1.0388683840674,1.8582043017162526)"
      ]
     },
     "execution_count": 21,
     "metadata": {},
     "output_type": "execute_result"
    }
   ],
   "source": [
    "#Ns = 10^5\n",
    "w_NH = zeros(Ns);\n",
    "for i in 1:Ns\n",
    "    w_NH[i] = workNH()\n",
    "end\n",
    "deltaF_NH = -1/b.*log(mean(exp(-b*w_NH)))  , mean(w_NH) ##Theoretical ΔF = 1.0397,"
   ]
  },
  {
   "cell_type": "code",
   "execution_count": 22,
   "metadata": {
    "collapsed": false
   },
   "outputs": [
    {
     "data": {
      "text/plain": [
       "(-0.45208688074118153,2.3882556971044124)"
      ]
     },
     "execution_count": 22,
     "metadata": {},
     "output_type": "execute_result"
    }
   ],
   "source": [
    "heat_NH = zeros(Ns);\n",
    "for i in 1:Ns\n",
    "    heat_NH[i] = qNH()\n",
    "end\n",
    "\n",
    "mean(heat_NH), std(heat_NH)"
   ]
  },
  {
   "cell_type": "code",
   "execution_count": 23,
   "metadata": {
    "collapsed": false
   },
   "outputs": [
    {
     "data": {
      "image/png": "[encoded data removed]",
      "text/plain": [
       "PyPlot.Figure(PyObject <matplotlib.figure.Figure object at 0x7f74136920d0>)"
      ]
     },
     "metadata": {},
     "output_type": "display_data"
    },
    {
     "data": {
      "text/plain": [
       "([0.429766,0.129646,0.0634321,0.0346912,0.0200302,0.0118871,0.00731669,0.00452438,0.00272781,0.00172357  …  1.13393e-5,1.48828e-5,5.66965e-6,2.83483e-6,2.12612e-6,0.0,1.41741e-6,7.08707e-7,7.08707e-7,1.41741e-6],[2.3114e-6,1.41102,2.82204,4.23307,5.64409,7.05511,8.46613,9.87715,11.2882,12.6992  …  29.6314,31.0425,32.4535,33.8645,35.2755,36.6866,38.0976,39.5086,40.9196,42.3306],Any[PyObject <matplotlib.patches.Polygon object at 0x7f741363eb50>])"
      ]
     },
     "execution_count": 23,
     "metadata": {},
     "output_type": "execute_result"
    }
   ],
   "source": [
    "plt[:hist](w_NH,bins = 30, normed = true, histtype=\"step\")\n",
    "#histogram(w_NH,nbins = 30, normed = true)"
   ]
  },
  {
   "cell_type": "code",
   "execution_count": 24,
   "metadata": {
    "collapsed": false
   },
   "outputs": [
    {
     "data": {
      "image/png": "[encoded data removed]",
      "text/plain": [
       "PyPlot.Figure(PyObject <matplotlib.figure.Figure object at 0x7f741319ba50>)"
      ]
     },
     "metadata": {},
     "output_type": "display_data"
    },
    {
     "data": {
      "text/plain": [
       "([1.17386e-6,0.0,1.17386e-6,4.69543e-6,7.04314e-6,1.46732e-5,2.52379e-5,6.92575e-5,0.000137928,0.000329267  …  0.0164733,0.00532051,0.00167392,0.000588102,0.000182535,5.98667e-5,1.23255e-5,2.34771e-6,1.17386e-6,5.86928e-7],[-30.9597,-29.2559,-27.5521,-25.8484,-24.1446,-22.4408,-20.737,-19.0332,-17.3294,-15.6257  …  4.81978,6.52356,8.22735,9.93113,11.6349,13.3387,15.0425,16.7463,18.4501,20.1538],Any[PyObject <matplotlib.patches.Polygon object at 0x7f74131239d0>])"
      ]
     },
     "execution_count": 24,
     "metadata": {},
     "output_type": "execute_result"
    }
   ],
   "source": [
    "plt[:hist](heat_NH, bins = 30, normed = true, histtype=\"step\")"
   ]
  },
  {
   "cell_type": "code",
   "execution_count": 25,
   "metadata": {
    "collapsed": false
   },
   "outputs": [],
   "source": [
    "#deltaiNH = [NHsol[i][2]^2/2.  + NHsol[i][1]^2/2. + NHsol[i][3]^2/(2.*QNH)  + 1./b*NHsol[i][4] for i in 1:length(solNH.u)] - I0;"
   ]
  },
  {
   "cell_type": "markdown",
   "metadata": {},
   "source": [
    "### Logistic thermostat"
   ]
  },
  {
   "cell_type": "markdown",
   "metadata": {},
   "source": [
    "\\begin{eqnarray}\n",
    "\\dot{q} &=& p \\\\\n",
    "\\dot{p} &=& -\\left(1 + \\frac{t}{t_s} \\right)^2 q - \\frac{\\tanh\\left(\\frac{\\zeta}{2Q} \\right)p}{\\beta Q} \\\\\n",
    "\\dot{\\zeta} &=& p^2 - \\frac{1}{\\beta} \\\\\n",
    "\\dot{\\nu} &=& \\frac{\\tanh\\left(\\frac{\\zeta}{2Q} \\right)}{\\beta Q}\n",
    "\\end{eqnarray}"
   ]
  },
  {
   "cell_type": "code",
   "execution_count": 26,
   "metadata": {
    "collapsed": false
   },
   "outputs": [
    {
     "data": {
      "text/plain": [
       "LogisticTh (generic function with 1 method)"
      ]
     },
     "execution_count": 26,
     "metadata": {},
     "output_type": "execute_result"
    }
   ],
   "source": [
    "function LogisticTh(t, u, du; ts=1., beta = b, Q = QLog) \n",
    "    du[1] = u[2]\n",
    "    du[2] = -(1+t/ts)^2*u[1] - tanh(u[3]/(2*Q))*u[2]/(beta*Q)\n",
    "    #du[2] = -(1)^2*u[1] - u[3]*u[2]/Q  ##Isothermal dynamics (omega = 1)\n",
    "    du[3] = u[2]^2 - 1/beta\n",
    "    du[4] = tanh(u[3]/(2*Q))/(beta*Q)\n",
    "end "
   ]
  },
  {
   "cell_type": "code",
   "execution_count": 27,
   "metadata": {
    "collapsed": false
   },
   "outputs": [
    {
     "data": {
      "text/plain": [
       "rholog (generic function with 1 method)"
      ]
     },
     "execution_count": 27,
     "metadata": {},
     "output_type": "execute_result"
    }
   ],
   "source": [
    "function rholog(z; beta = b, Q = QLog)\n",
    "    return exp(z/QLog)/(QLog*(1+exp(z/QLog))^2.)\n",
    "end"
   ]
  },
  {
   "cell_type": "code",
   "execution_count": 28,
   "metadata": {
    "collapsed": false
   },
   "outputs": [
    {
     "data": {
      "text/plain": [
       "heatlog (generic function with 1 method)"
      ]
     },
     "execution_count": 28,
     "metadata": {},
     "output_type": "execute_result"
    }
   ],
   "source": [
    "function heatlog()\n",
    "    q0,p0 = rand(Normal(0.0, 1./sqrt(b)),2)\n",
    "    z0 = rand(Logistic(0.0,QLog))\n",
    "    #q0,p0,z0=x,y,z1\n",
    "    nu0 = 0.0\n",
    "    u0 = [q0,p0,z0,nu0]\n",
    "    tspan = (0.0,1.0)\n",
    "    problog = ODEProblem(LogisticTh,u0,tspan)\n",
    "    sol = solve(problog, DP8());\n",
    "    Lsol = sol.u;\n",
    "    qf, pf, zf, nuf = Lsol[end]\n",
    "    return heat(rholog, z0, zf, nuf)\n",
    "end    \n"
   ]
  },
  {
   "cell_type": "code",
   "execution_count": 29,
   "metadata": {
    "collapsed": false
   },
   "outputs": [
    {
     "data": {
      "text/plain": [
       "worklog (generic function with 1 method)"
      ]
     },
     "execution_count": 29,
     "metadata": {},
     "output_type": "execute_result"
    }
   ],
   "source": [
    "function worklog()\n",
    "    q0,p0 = rand(Normal(0.0, 1./sqrt(b)),2)\n",
    "    z0 = rand(Logistic(0.0,QLog))\n",
    "    #q0,p0,z0=x,y,z1\n",
    "    nu0 = 0.0\n",
    "    u0 = [q0,p0,z0,nu0]\n",
    "    I0 = q0^2/2. + p0^2./2. - log(exp(z0/QLog)/(QLog*(1+exp(z0/QLog))^2.))/b\n",
    "    tspan = (0.0,1.0)\n",
    "    problog = ODEProblem(LogisticTh,u0,tspan)\n",
    "    sol = solve(problog, DP8());\n",
    "    Lsol = sol.u;\n",
    "    qf, pf, zf, nuf = Lsol[end];\n",
    "    If = 4.*qf^2/2. + pf^2./2. - log(exp(zf/QLog)/(QLog*(1+exp(zf/QLog))^2.))/b\n",
    "    return If - I0 + 1./b*nuf\n",
    "end"
   ]
  },
  {
   "cell_type": "code",
   "execution_count": 30,
   "metadata": {
    "collapsed": false
   },
   "outputs": [
    {
     "data": {
      "text/html": [
       "0.276652219912886"
      ],
      "text/plain": [
       "0.276652219912886"
      ]
     },
     "execution_count": 30,
     "metadata": {},
     "output_type": "execute_result"
    }
   ],
   "source": [
    "heatlog()"
   ]
  },
  {
   "cell_type": "code",
   "execution_count": 31,
   "metadata": {
    "collapsed": false
   },
   "outputs": [
    {
     "data": {
      "text/html": [
       "1.6438315276770348"
      ],
      "text/plain": [
       "1.6438315276770348"
      ]
     },
     "execution_count": 31,
     "metadata": {},
     "output_type": "execute_result"
    }
   ],
   "source": [
    "worklog()"
   ]
  },
  {
   "cell_type": "code",
   "execution_count": 32,
   "metadata": {
    "collapsed": false
   },
   "outputs": [
    {
     "data": {
      "text/plain": [
       "(-0.287828193519942,1.9169226446465604)"
      ]
     },
     "execution_count": 32,
     "metadata": {},
     "output_type": "execute_result"
    }
   ],
   "source": [
    "#Ns = 10^4\n",
    "h_log = zeros(Ns);\n",
    "for i in 1:Ns\n",
    "    h_log[i] = heatlog()\n",
    "end\n",
    "\n",
    "mean(h_log), std(h_log)"
   ]
  },
  {
   "cell_type": "code",
   "execution_count": 54,
   "metadata": {
    "collapsed": false
   },
   "outputs": [
    {
     "data": {
      "text/plain": [
       "(-0.287828193519942,-0.45208688074118153)"
      ]
     },
     "execution_count": 54,
     "metadata": {},
     "output_type": "execute_result"
    }
   ],
   "source": [
    "mean(h_log), mean(heat_NH)"
   ]
  },
  {
   "cell_type": "code",
   "execution_count": 56,
   "metadata": {
    "collapsed": false
   },
   "outputs": [
    {
     "data": {
      "text/plain": [
       "(25.422321603785687,1706.6314027627602)"
      ]
     },
     "execution_count": 56,
     "metadata": {},
     "output_type": "execute_result"
    }
   ],
   "source": [
    "mean(exp(-b*h_log)),mean(exp(-b*heat_NH))"
   ]
  },
  {
   "cell_type": "code",
   "execution_count": 33,
   "metadata": {
    "collapsed": false
   },
   "outputs": [],
   "source": [
    "#Ns = 10^4\n",
    "w_log = zeros(Ns);\n",
    "for i in 1:Ns\n",
    "    w_log[i] = worklog()\n",
    "end"
   ]
  },
  {
   "cell_type": "code",
   "execution_count": 34,
   "metadata": {
    "collapsed": false
   },
   "outputs": [
    {
     "data": {
      "text/html": [
       "1.0404005166213595"
      ],
      "text/plain": [
       "1.0404005166213595"
      ]
     },
     "execution_count": 34,
     "metadata": {},
     "output_type": "execute_result"
    }
   ],
   "source": [
    "deltaF_log = -1/b*log(mean(exp(-b*w_log)))  ##Theoretical = 1.0397"
   ]
  },
  {
   "cell_type": "code",
   "execution_count": 53,
   "metadata": {
    "collapsed": false
   },
   "outputs": [
    {
     "data": {
      "text/plain": [
       "(1.8580359825598953,2.4011455657654666)"
      ]
     },
     "execution_count": 53,
     "metadata": {},
     "output_type": "execute_result"
    }
   ],
   "source": [
    "mean(w_log),std(w_log)"
   ]
  },
  {
   "cell_type": "code",
   "execution_count": 36,
   "metadata": {
    "collapsed": false
   },
   "outputs": [
    {
     "data": {
      "image/png": "[encoded data removed]",
      "text/plain": [
       "PyPlot.Figure(PyObject <matplotlib.figure.Figure object at 0x7f741363ed50>)"
      ]
     },
     "metadata": {},
     "output_type": "display_data"
    },
    {
     "data": {
      "text/plain": [
       "([0.42716,0.130259,0.0629074,0.0343375,0.0198119,0.0117468,0.00695236,0.00439271,0.00272315,0.00164982  …  1.33902e-5,7.75225e-6,7.75225e-6,2.11425e-6,3.52375e-6,7.0475e-7,1.4095e-6,0.0,0.0,7.0475e-7],[3.52697e-7,1.41894,2.83789,4.25683,5.67577,7.09472,8.51366,9.9326,11.3515,12.7705  …  29.7978,31.2167,32.6357,34.0546,35.4736,36.8925,38.3115,39.7304,41.1493,42.5683],Any[PyObject <matplotlib.patches.Polygon object at 0x7f7410bd6490>])"
      ]
     },
     "execution_count": 36,
     "metadata": {},
     "output_type": "execute_result"
    }
   ],
   "source": [
    "plt[:hist](w_log,bins = 30, normed = true, histtype=\"step\")\n",
    "#histogram(w_log,nbins = 30, normed = true)"
   ]
  },
  {
   "cell_type": "code",
   "execution_count": 37,
   "metadata": {
    "collapsed": false
   },
   "outputs": [
    {
     "data": {
      "image/png": "[encoded data removed]",
      "text/plain": [
       "PyPlot.Figure(PyObject <matplotlib.figure.Figure object at 0x7f7410b25f90>)"
      ]
     },
     "metadata": {},
     "output_type": "display_data"
    },
    {
     "data": {
      "text/plain": [
       "([7.50157e-7,1.50031e-6,6.00126e-6,6.00126e-6,2.02542e-5,4.05085e-5,6.22631e-5,0.000171036,0.000384081,0.000775663  …  0.00895538,0.00326018,0.00116199,0.000442593,0.000153032,7.05148e-5,2.77558e-5,1.12524e-5,2.25047e-6,1.50031e-6],[-22.9271,-21.594,-20.261,-18.9279,-17.5949,-16.2618,-14.9287,-13.5957,-12.2626,-10.9296  …  5.06705,6.40011,7.73316,9.06622,10.3993,11.7323,13.0654,14.3984,15.7315,17.0645],Any[PyObject <matplotlib.patches.Polygon object at 0x7f7410b21610>])"
      ]
     },
     "execution_count": 37,
     "metadata": {},
     "output_type": "execute_result"
    }
   ],
   "source": [
    "plt[:hist](h_log,bins = 30, normed = true, histtype=\"step\")"
   ]
  },
  {
   "cell_type": "markdown",
   "metadata": {},
   "source": [
    "## Comparison"
   ]
  },
  {
   "cell_type": "code",
   "execution_count": 49,
   "metadata": {
    "collapsed": false
   },
   "outputs": [
    {
     "data": {
      "image/png": "[encoded data removed]",
      "text/plain": [
       "PyPlot.Figure(PyObject <matplotlib.figure.Figure object at 0x7f7410653f90>)"
      ]
     },
     "metadata": {},
     "output_type": "display_data"
    },
    {
     "data": {
      "text/plain": [
       "([1.17386e-6,0.0,1.17386e-6,4.69543e-6,7.04314e-6,1.46732e-5,2.52379e-5,6.92575e-5,0.000137928,0.000329267  …  0.0164733,0.00532051,0.00167392,0.000588102,0.000182535,5.98667e-5,1.23255e-5,2.34771e-6,1.17386e-6,5.86928e-7],[-30.9597,-29.2559,-27.5521,-25.8484,-24.1446,-22.4408,-20.737,-19.0332,-17.3294,-15.6257  …  4.81978,6.52356,8.22735,9.93113,11.6349,13.3387,15.0425,16.7463,18.4501,20.1538],Any[PyObject <matplotlib.patches.Polygon object at 0x7f74105df310>])"
      ]
     },
     "execution_count": 49,
     "metadata": {},
     "output_type": "execute_result"
    }
   ],
   "source": [
    "plt[:hist](h_log,bins = 30, normed = true, histtype=\"step\", color=\"g\")\n",
    "plt[:hist](heat_NH, bins = 30, normed = true, histtype=\"step\", color=\"b\")"
   ]
  },
  {
   "cell_type": "code",
   "execution_count": 39,
   "metadata": {
    "collapsed": false
   },
   "outputs": [
    {
     "data": {
      "image/png": "[encoded data removed]",
      "text/plain": [
       "PyPlot.Figure(PyObject <matplotlib.figure.Figure object at 0x7f7410a0c810>)"
      ]
     },
     "metadata": {},
     "output_type": "display_data"
    },
    {
     "data": {
      "text/plain": [
       "([0.126248,0.317528,0.100608,0.0498431,0.027029,0.0154071,0.00894037,0.00543086,0.00333664,0.00202165  …  1.31961e-5,8.57748e-6,3.95884e-6,2.63922e-6,1.97942e-6,1.97942e-6,0.0,0.0,0.0,6.59806e-7],[-1.23697,0.278622,1.79422,3.30982,4.82541,6.34101,7.8566,9.3722,10.8878,12.4034  …  30.5906,32.1062,33.6217,35.1373,36.6529,38.1685,39.6841,41.1997,42.7153,44.2309],Any[PyObject <matplotlib.patches.Polygon object at 0x7f741093f790>])"
      ]
     },
     "execution_count": 39,
     "metadata": {},
     "output_type": "execute_result"
    }
   ],
   "source": [
    "plt[:hist](w_log,bins = 30, normed = true, histtype=\"step\", color=\"g\")\n",
    "plt[:hist](w_NH,bins = 30, normed = true, histtype=\"step\", color = \"blue\")\n",
    "plt[:hist](w_HH,bins = 30, normed = true, histtype=\"step\", color = \"red\")"
   ]
  },
  {
   "cell_type": "code",
   "execution_count": 60,
   "metadata": {
    "collapsed": false
   },
   "outputs": [
    {
     "data": {
      "image/png": "[encoded data removed]",
      "text/plain": [
       "PyPlot.Figure(PyObject <matplotlib.figure.Figure object at 0x7f74102934d0>)"
      ]
     },
     "metadata": {},
     "output_type": "display_data"
    },
    {
     "data": {
      "text/plain": [
       "([4.38512e-5,8.77031e-11,8.77031e-11,0.0,0.0,0.0,0.0,4.38515e-11,0.0,4.38515e-11  …  0.0,0.0,0.0,0.0,0.0,0.0,0.0,0.0,0.0,4.38515e-11],[1.08703e-9,22804.2,45608.4,68412.7,91216.9,1.14021e5,1.36825e5,1.5963e5,1.82434e5,205238.0  …  4.78889e5,5.01693e5,5.24497e5,5.47301e5,5.70106e5,5.9291e5,615714.0,6.38518e5,6.61322e5,6.84127e5],Any[PyObject <matplotlib.patches.Polygon object at 0x7f7410210ed0>])"
      ]
     },
     "execution_count": 60,
     "metadata": {},
     "output_type": "execute_result"
    }
   ],
   "source": [
    "plt[:hist](exp(b*h_log), bins = 30, normed = true, histtype=\"step\", color = \"g\")\n",
    "plt[:hist](exp(b*heat_NH),bins = 30, normed = true, histtype=\"step\", color = \"blue\")"
   ]
  },
  {
   "cell_type": "code",
   "execution_count": 57,
   "metadata": {
    "collapsed": false
   },
   "outputs": [
    {
     "data": {
      "image/png": "[encoded data removed]",
      "text/plain": [
       "PyPlot.Figure(PyObject <matplotlib.figure.Figure object at 0x7f74106a7cd0>)"
      ]
     },
     "metadata": {},
     "output_type": "display_data"
    },
    {
     "data": {
      "text/plain": [
       "([2.63961,1.23549,1.02165,0.923911,0.857161,0.809281,0.781201,0.753001,0.753781,0.752101  …  0.982052,1.02033,1.05993,1.08126,1.12062,1.14411,1.17522,1.20288,1.23252,1.25001],[5.54659e-13,0.0333333,0.0666666,0.0999998,0.133333,0.166666,0.2,0.233333,0.266666,0.3  …  0.699999,0.733332,0.766665,0.799999,0.833332,0.866665,0.899999,0.933332,0.966665,0.999998],Any[PyObject <matplotlib.patches.Polygon object at 0x7f7410457dd0>])"
      ]
     },
     "execution_count": 57,
     "metadata": {},
     "output_type": "execute_result"
    }
   ],
   "source": [
    "plt[:hist](exp(-b*w_log), bins = 30, normed = true, histtype=\"step\", color = \"g\")\n",
    "plt[:hist](exp(-b*w_NH),bins = 30, normed = true, histtype=\"step\", color = \"blue\")\n",
    "#plt[:hist](exp(-b*w_HH),bins = 30, normed = true, histtype=\"step\", color = \"red\")"
   ]
  },
  {
   "cell_type": "code",
   "execution_count": 41,
   "metadata": {
    "collapsed": false
   },
   "outputs": [
    {
     "data": {
      "text/plain": [
       "(0.9999997648687542,4.733878103685822e-13)"
      ]
     },
     "execution_count": 41,
     "metadata": {},
     "output_type": "execute_result"
    }
   ],
   "source": [
    "maximum(exp(-b*w_log)), minimum(exp(-b*w_log))"
   ]
  },
  {
   "cell_type": "code",
   "execution_count": 42,
   "metadata": {
    "collapsed": false
   },
   "outputs": [
    {
     "data": {
      "text/plain": [
       "(2.281081649536335,1.5625582054629125e-13)"
      ]
     },
     "execution_count": 42,
     "metadata": {},
     "output_type": "execute_result"
    }
   ],
   "source": [
    "maximum(exp(-b*w_HH)), minimum(exp(-b*w_HH))"
   ]
  },
  {
   "cell_type": "code",
   "execution_count": 43,
   "metadata": {
    "collapsed": false
   },
   "outputs": [
    {
     "data": {
      "text/plain": [
       "(0.49977346940446843,0.31895114124759444)"
      ]
     },
     "execution_count": 43,
     "metadata": {},
     "output_type": "execute_result"
    }
   ],
   "source": [
    "mean(exp(-b*w_log)), std(exp(-b*w_log))"
   ]
  },
  {
   "cell_type": "code",
   "execution_count": 44,
   "metadata": {
    "collapsed": false
   },
   "outputs": [
    {
     "data": {
      "text/plain": [
       "(0.5007729272706429,0.31806367074999525)"
      ]
     },
     "execution_count": 44,
     "metadata": {},
     "output_type": "execute_result"
    }
   ],
   "source": [
    "mean(exp(-b*w_HH)), std(exp(-b*w_HH))"
   ]
  },
  {
   "cell_type": "code",
   "execution_count": 45,
   "metadata": {
    "collapsed": false
   },
   "outputs": [
    {
     "data": {
      "text/plain": [
       "(0.500284209668712,0.3183561804955111)"
      ]
     },
     "execution_count": 45,
     "metadata": {},
     "output_type": "execute_result"
    }
   ],
   "source": [
    "mean(exp(-b*w_NH)), std(exp(-b*w_NH))"
   ]
  },
  {
   "cell_type": "code",
   "execution_count": null,
   "metadata": {
    "collapsed": true
   },
   "outputs": [],
   "source": []
  }
 ],
 "metadata": {
  "kernelspec": {
   "display_name": "Julia 0.5.0",
   "language": "julia",
   "name": "julia-0.5"
  },
  "language_info": {
   "file_extension": ".jl",
   "mimetype": "application/julia",
   "name": "julia",
   "version": "0.5.0"
  }
 },
 "nbformat": 4,
 "nbformat_minor": 0
}
